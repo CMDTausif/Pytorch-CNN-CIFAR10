{
  "nbformat": 4,
  "nbformat_minor": 0,
  "metadata": {
    "colab": {
      "name": "Pytorch_CNN_CIFAR10Updated.ipynb",
      "provenance": [],
      "collapsed_sections": [],
      "authorship_tag": "ABX9TyMkc/2vAFrPqAG0pqhlzMaB",
      "include_colab_link": true
    },
    "kernelspec": {
      "name": "python3",
      "display_name": "Python 3"
    },
    "language_info": {
      "name": "python"
    },
    "accelerator": "GPU"
  },
  "cells": [
    {
      "cell_type": "markdown",
      "metadata": {
        "id": "view-in-github",
        "colab_type": "text"
      },
      "source": [
        "<a href=\"https://colab.research.google.com/github/CMDTausif/Pytorch-CNN-CIFAR10/blob/main/Pytorch_CNN_CIFAR10Updated.ipynb\" target=\"_parent\"><img src=\"https://colab.research.google.com/assets/colab-badge.svg\" alt=\"Open In Colab\"/></a>"
      ]
    },
    {
      "cell_type": "code",
      "execution_count": null,
      "metadata": {
        "id": "PWAA7OlOsEgo"
      },
      "outputs": [],
      "source": [
        "import torch\n",
        "import torch.nn as nn\n",
        "import torch.nn.functional as F\n",
        "import torchvision\n",
        "import torchvision.transforms as transforms\n",
        "import numpy as np\n",
        "import pandas as pd\n",
        "import matplotlib.pyplot as plt\n",
        "from datetime import datetime"
      ]
    },
    {
      "cell_type": "code",
      "source": [
        "print(torch.__version__)\n",
        "print(torchvision.__version__)"
      ],
      "metadata": {
        "colab": {
          "base_uri": "https://localhost:8080/"
        },
        "id": "x3_iCJe9sddS",
        "outputId": "ad7a6e56-8941-4ec3-fd1d-82e224f2af2c"
      },
      "execution_count": null,
      "outputs": [
        {
          "output_type": "stream",
          "name": "stdout",
          "text": [
            "1.10.0+cu111\n",
            "0.11.1+cu111\n"
          ]
        }
      ]
    },
    {
      "cell_type": "code",
      "source": [
        "transformer_train = torchvision.transforms.Compose([\n",
        "                   transforms.RandomCrop(32, padding=4),\n",
        "                   torchvision.transforms.RandomHorizontalFlip(p=0.5),\n",
        "                   torchvision.transforms.RandomAffine(0, translate=(0.1, 0.1)),\n",
        "                   transforms.ToTensor(),                                \n",
        "])"
      ],
      "metadata": {
        "id": "cmHjh5xQsf23"
      },
      "execution_count": null,
      "outputs": []
    },
    {
      "cell_type": "code",
      "source": [
        "## Load the train data\n",
        "train_dataset = torchvision.datasets.CIFAR10(\n",
        "                \n",
        "    root=\".\",\n",
        "    train = True,\n",
        "    transform = transforms.ToTensor(),\n",
        "    download=True\n",
        "\n",
        ")"
      ],
      "metadata": {
        "colab": {
          "base_uri": "https://localhost:8080/"
        },
        "id": "eQTy968juDZz",
        "outputId": "f5b00e58-5b15-4450-f507-cada77150ca8"
      },
      "execution_count": null,
      "outputs": [
        {
          "output_type": "stream",
          "name": "stdout",
          "text": [
            "Files already downloaded and verified\n"
          ]
        }
      ]
    },
    {
      "cell_type": "code",
      "source": [
        "train_dataset.data"
      ],
      "metadata": {
        "colab": {
          "base_uri": "https://localhost:8080/"
        },
        "id": "UYhVfg1ouHNf",
        "outputId": "837bf0cc-2625-4fe9-b09c-638ff47ca82f"
      },
      "execution_count": null,
      "outputs": [
        {
          "output_type": "execute_result",
          "data": {
            "text/plain": [
              "array([[[[ 59,  62,  63],\n",
              "         [ 43,  46,  45],\n",
              "         [ 50,  48,  43],\n",
              "         ...,\n",
              "         [158, 132, 108],\n",
              "         [152, 125, 102],\n",
              "         [148, 124, 103]],\n",
              "\n",
              "        [[ 16,  20,  20],\n",
              "         [  0,   0,   0],\n",
              "         [ 18,   8,   0],\n",
              "         ...,\n",
              "         [123,  88,  55],\n",
              "         [119,  83,  50],\n",
              "         [122,  87,  57]],\n",
              "\n",
              "        [[ 25,  24,  21],\n",
              "         [ 16,   7,   0],\n",
              "         [ 49,  27,   8],\n",
              "         ...,\n",
              "         [118,  84,  50],\n",
              "         [120,  84,  50],\n",
              "         [109,  73,  42]],\n",
              "\n",
              "        ...,\n",
              "\n",
              "        [[208, 170,  96],\n",
              "         [201, 153,  34],\n",
              "         [198, 161,  26],\n",
              "         ...,\n",
              "         [160, 133,  70],\n",
              "         [ 56,  31,   7],\n",
              "         [ 53,  34,  20]],\n",
              "\n",
              "        [[180, 139,  96],\n",
              "         [173, 123,  42],\n",
              "         [186, 144,  30],\n",
              "         ...,\n",
              "         [184, 148,  94],\n",
              "         [ 97,  62,  34],\n",
              "         [ 83,  53,  34]],\n",
              "\n",
              "        [[177, 144, 116],\n",
              "         [168, 129,  94],\n",
              "         [179, 142,  87],\n",
              "         ...,\n",
              "         [216, 184, 140],\n",
              "         [151, 118,  84],\n",
              "         [123,  92,  72]]],\n",
              "\n",
              "\n",
              "       [[[154, 177, 187],\n",
              "         [126, 137, 136],\n",
              "         [105, 104,  95],\n",
              "         ...,\n",
              "         [ 91,  95,  71],\n",
              "         [ 87,  90,  71],\n",
              "         [ 79,  81,  70]],\n",
              "\n",
              "        [[140, 160, 169],\n",
              "         [145, 153, 154],\n",
              "         [125, 125, 118],\n",
              "         ...,\n",
              "         [ 96,  99,  78],\n",
              "         [ 77,  80,  62],\n",
              "         [ 71,  73,  61]],\n",
              "\n",
              "        [[140, 155, 164],\n",
              "         [139, 146, 149],\n",
              "         [115, 115, 112],\n",
              "         ...,\n",
              "         [ 79,  82,  64],\n",
              "         [ 68,  70,  55],\n",
              "         [ 67,  69,  55]],\n",
              "\n",
              "        ...,\n",
              "\n",
              "        [[175, 167, 166],\n",
              "         [156, 154, 160],\n",
              "         [154, 160, 170],\n",
              "         ...,\n",
              "         [ 42,  34,  36],\n",
              "         [ 61,  53,  57],\n",
              "         [ 93,  83,  91]],\n",
              "\n",
              "        [[165, 154, 128],\n",
              "         [156, 152, 130],\n",
              "         [159, 161, 142],\n",
              "         ...,\n",
              "         [103,  93,  96],\n",
              "         [123, 114, 120],\n",
              "         [131, 121, 131]],\n",
              "\n",
              "        [[163, 148, 120],\n",
              "         [158, 148, 122],\n",
              "         [163, 156, 133],\n",
              "         ...,\n",
              "         [143, 133, 139],\n",
              "         [143, 134, 142],\n",
              "         [143, 133, 144]]],\n",
              "\n",
              "\n",
              "       [[[255, 255, 255],\n",
              "         [253, 253, 253],\n",
              "         [253, 253, 253],\n",
              "         ...,\n",
              "         [253, 253, 253],\n",
              "         [253, 253, 253],\n",
              "         [253, 253, 253]],\n",
              "\n",
              "        [[255, 255, 255],\n",
              "         [255, 255, 255],\n",
              "         [255, 255, 255],\n",
              "         ...,\n",
              "         [255, 255, 255],\n",
              "         [255, 255, 255],\n",
              "         [255, 255, 255]],\n",
              "\n",
              "        [[255, 255, 255],\n",
              "         [254, 254, 254],\n",
              "         [254, 254, 254],\n",
              "         ...,\n",
              "         [254, 254, 254],\n",
              "         [254, 254, 254],\n",
              "         [254, 254, 254]],\n",
              "\n",
              "        ...,\n",
              "\n",
              "        [[113, 120, 112],\n",
              "         [111, 118, 111],\n",
              "         [105, 112, 106],\n",
              "         ...,\n",
              "         [ 72,  81,  80],\n",
              "         [ 72,  80,  79],\n",
              "         [ 72,  80,  79]],\n",
              "\n",
              "        [[111, 118, 110],\n",
              "         [104, 111, 104],\n",
              "         [ 99, 106,  98],\n",
              "         ...,\n",
              "         [ 68,  75,  73],\n",
              "         [ 70,  76,  75],\n",
              "         [ 78,  84,  82]],\n",
              "\n",
              "        [[106, 113, 105],\n",
              "         [ 99, 106,  98],\n",
              "         [ 95, 102,  94],\n",
              "         ...,\n",
              "         [ 78,  85,  83],\n",
              "         [ 79,  85,  83],\n",
              "         [ 80,  86,  84]]],\n",
              "\n",
              "\n",
              "       ...,\n",
              "\n",
              "\n",
              "       [[[ 35, 178, 235],\n",
              "         [ 40, 176, 239],\n",
              "         [ 42, 176, 241],\n",
              "         ...,\n",
              "         [ 99, 177, 219],\n",
              "         [ 79, 147, 197],\n",
              "         [ 89, 148, 189]],\n",
              "\n",
              "        [[ 57, 182, 234],\n",
              "         [ 44, 184, 250],\n",
              "         [ 50, 183, 240],\n",
              "         ...,\n",
              "         [156, 182, 200],\n",
              "         [141, 177, 206],\n",
              "         [116, 149, 175]],\n",
              "\n",
              "        [[ 98, 197, 237],\n",
              "         [ 64, 189, 252],\n",
              "         [ 69, 192, 245],\n",
              "         ...,\n",
              "         [188, 195, 206],\n",
              "         [119, 135, 147],\n",
              "         [ 61,  79,  90]],\n",
              "\n",
              "        ...,\n",
              "\n",
              "        [[ 73,  79,  77],\n",
              "         [ 53,  63,  68],\n",
              "         [ 54,  68,  80],\n",
              "         ...,\n",
              "         [ 17,  40,  64],\n",
              "         [ 21,  36,  51],\n",
              "         [ 33,  48,  49]],\n",
              "\n",
              "        [[ 61,  68,  75],\n",
              "         [ 55,  70,  86],\n",
              "         [ 57,  79, 103],\n",
              "         ...,\n",
              "         [ 24,  48,  72],\n",
              "         [ 17,  35,  53],\n",
              "         [  7,  23,  32]],\n",
              "\n",
              "        [[ 44,  56,  73],\n",
              "         [ 46,  66,  88],\n",
              "         [ 49,  77, 105],\n",
              "         ...,\n",
              "         [ 27,  52,  77],\n",
              "         [ 21,  43,  66],\n",
              "         [ 12,  31,  50]]],\n",
              "\n",
              "\n",
              "       [[[189, 211, 240],\n",
              "         [186, 208, 236],\n",
              "         [185, 207, 235],\n",
              "         ...,\n",
              "         [175, 195, 224],\n",
              "         [172, 194, 222],\n",
              "         [169, 194, 220]],\n",
              "\n",
              "        [[194, 210, 239],\n",
              "         [191, 207, 236],\n",
              "         [190, 206, 235],\n",
              "         ...,\n",
              "         [173, 192, 220],\n",
              "         [171, 191, 218],\n",
              "         [167, 190, 216]],\n",
              "\n",
              "        [[208, 219, 244],\n",
              "         [205, 216, 240],\n",
              "         [204, 215, 239],\n",
              "         ...,\n",
              "         [175, 191, 217],\n",
              "         [172, 190, 216],\n",
              "         [169, 191, 215]],\n",
              "\n",
              "        ...,\n",
              "\n",
              "        [[207, 199, 181],\n",
              "         [203, 195, 175],\n",
              "         [203, 196, 173],\n",
              "         ...,\n",
              "         [135, 132, 127],\n",
              "         [162, 158, 150],\n",
              "         [168, 163, 151]],\n",
              "\n",
              "        [[198, 190, 170],\n",
              "         [189, 181, 159],\n",
              "         [180, 172, 147],\n",
              "         ...,\n",
              "         [178, 171, 160],\n",
              "         [175, 169, 156],\n",
              "         [175, 169, 154]],\n",
              "\n",
              "        [[198, 189, 173],\n",
              "         [189, 181, 162],\n",
              "         [178, 170, 149],\n",
              "         ...,\n",
              "         [195, 184, 169],\n",
              "         [196, 189, 171],\n",
              "         [195, 190, 171]]],\n",
              "\n",
              "\n",
              "       [[[229, 229, 239],\n",
              "         [236, 237, 247],\n",
              "         [234, 236, 247],\n",
              "         ...,\n",
              "         [217, 219, 233],\n",
              "         [221, 223, 234],\n",
              "         [222, 223, 233]],\n",
              "\n",
              "        [[222, 221, 229],\n",
              "         [239, 239, 249],\n",
              "         [233, 234, 246],\n",
              "         ...,\n",
              "         [223, 223, 236],\n",
              "         [227, 228, 238],\n",
              "         [210, 211, 220]],\n",
              "\n",
              "        [[213, 206, 211],\n",
              "         [234, 232, 239],\n",
              "         [231, 233, 244],\n",
              "         ...,\n",
              "         [220, 220, 232],\n",
              "         [220, 219, 232],\n",
              "         [202, 203, 215]],\n",
              "\n",
              "        ...,\n",
              "\n",
              "        [[150, 143, 135],\n",
              "         [140, 135, 127],\n",
              "         [132, 127, 120],\n",
              "         ...,\n",
              "         [224, 222, 218],\n",
              "         [230, 228, 225],\n",
              "         [241, 241, 238]],\n",
              "\n",
              "        [[137, 132, 126],\n",
              "         [130, 127, 120],\n",
              "         [125, 121, 115],\n",
              "         ...,\n",
              "         [181, 180, 178],\n",
              "         [202, 201, 198],\n",
              "         [212, 211, 207]],\n",
              "\n",
              "        [[122, 119, 114],\n",
              "         [118, 116, 110],\n",
              "         [120, 116, 111],\n",
              "         ...,\n",
              "         [179, 177, 173],\n",
              "         [164, 164, 162],\n",
              "         [163, 163, 161]]]], dtype=uint8)"
            ]
          },
          "metadata": {},
          "execution_count": 26
        }
      ]
    },
    {
      "cell_type": "code",
      "source": [
        "train_dataset.data.shape"
      ],
      "metadata": {
        "colab": {
          "base_uri": "https://localhost:8080/"
        },
        "id": "4iPcFLa0uOsw",
        "outputId": "2f2883e5-fda9-411c-e0e9-814e0aaa9859"
      },
      "execution_count": null,
      "outputs": [
        {
          "output_type": "execute_result",
          "data": {
            "text/plain": [
              "(50000, 32, 32, 3)"
            ]
          },
          "metadata": {},
          "execution_count": 27
        }
      ]
    },
    {
      "cell_type": "code",
      "source": [
        "## load the test dataset\n",
        "test_dataset = torchvision.datasets.CIFAR10(\n",
        "                \n",
        "    root=\".\",\n",
        "    train = False,\n",
        "    transform = transforms.ToTensor(),\n",
        "    download=True\n",
        "\n",
        ")"
      ],
      "metadata": {
        "colab": {
          "base_uri": "https://localhost:8080/"
        },
        "id": "IZ9qgUSIusU2",
        "outputId": "92267b6f-9682-4ef0-c9cc-0eba4dbaf0a1"
      },
      "execution_count": null,
      "outputs": [
        {
          "output_type": "stream",
          "name": "stdout",
          "text": [
            "Files already downloaded and verified\n"
          ]
        }
      ]
    },
    {
      "cell_type": "code",
      "source": [
        "### number of classes\n",
        "K = len(set(train_dataset.targets))\n",
        "print(\"Number of Classes: \", K)"
      ],
      "metadata": {
        "colab": {
          "base_uri": "https://localhost:8080/"
        },
        "id": "YVUciAe2ufWm",
        "outputId": "5cd5390b-f453-41f7-fa62-00b55e50ee48"
      },
      "execution_count": null,
      "outputs": [
        {
          "output_type": "stream",
          "name": "stdout",
          "text": [
            "Number of Classes:  10\n"
          ]
        }
      ]
    },
    {
      "cell_type": "code",
      "source": [
        "## Dataloader\n",
        "\n",
        "batch_size = 128\n",
        "train_loader = torch.utils.data.DataLoader(dataset = train_dataset, batch_size = batch_size, shuffle= True)\n",
        "test_loader = torch.utils.data.DataLoader(dataset = test_dataset, batch_size= batch_size, shuffle= False)"
      ],
      "metadata": {
        "id": "0KOl_WICulEO"
      },
      "execution_count": null,
      "outputs": []
    },
    {
      "cell_type": "code",
      "source": [
        "train_dataset_fixed = torchvision.datasets.CIFAR10(\n",
        "                \n",
        "    root=\".\",\n",
        "    train = True,\n",
        "    transform = transforms.ToTensor(),\n",
        "    download=True\n",
        "\n",
        ")\n",
        "train_loader_fixed = torch.utils.data.DataLoader(dataset = train_dataset_fixed, batch_size = batch_size, shuffle= False)\n"
      ],
      "metadata": {
        "colab": {
          "base_uri": "https://localhost:8080/"
        },
        "id": "N-_Im7mHu_uJ",
        "outputId": "8f7d1cd9-a71b-4812-ef7b-f438d7aed6f5"
      },
      "execution_count": null,
      "outputs": [
        {
          "output_type": "stream",
          "name": "stdout",
          "text": [
            "Files already downloaded and verified\n"
          ]
        }
      ]
    },
    {
      "cell_type": "code",
      "source": [
        "# the data transformer mapped the data to (0,1)\n",
        "# and also moved the color channel before height/width\n",
        "tmp_loader = torch.utils.data.DataLoader(dataset = train_dataset, batch_size = 1, shuffle=True)\n",
        "\n",
        "for x, y in tmp_loader:\n",
        "  print(x)\n",
        "  print(x.shape)\n",
        "  break"
      ],
      "metadata": {
        "colab": {
          "base_uri": "https://localhost:8080/"
        },
        "id": "z3iOkK7OvntP",
        "outputId": "fad07d36-0fd6-4869-8922-1c09c8f7b207"
      },
      "execution_count": null,
      "outputs": [
        {
          "output_type": "stream",
          "name": "stdout",
          "text": [
            "tensor([[[[0.8941, 0.8980, 0.9098,  ..., 0.8549, 0.9216, 0.9451],\n",
            "          [0.8980, 0.8941, 0.9059,  ..., 0.8118, 0.6667, 0.5882],\n",
            "          [0.7843, 0.9020, 0.9098,  ..., 0.6784, 0.5490, 0.4588],\n",
            "          ...,\n",
            "          [0.6078, 0.6039, 0.6275,  ..., 0.5373, 0.5529, 0.4980],\n",
            "          [0.6314, 0.6235, 0.6471,  ..., 0.5451, 0.5412, 0.5412],\n",
            "          [0.5686, 0.5569, 0.5647,  ..., 0.5451, 0.5412, 0.5333]],\n",
            "\n",
            "         [[0.9451, 0.9451, 0.9451,  ..., 0.9098, 0.9490, 0.9490],\n",
            "          [0.9490, 0.9373, 0.9373,  ..., 0.8667, 0.7020, 0.6118],\n",
            "          [0.8392, 0.9490, 0.9412,  ..., 0.7333, 0.5843, 0.4824],\n",
            "          ...,\n",
            "          [0.6118, 0.6118, 0.6392,  ..., 0.4863, 0.5059, 0.4667],\n",
            "          [0.6235, 0.6157, 0.6431,  ..., 0.5020, 0.5020, 0.5137],\n",
            "          [0.5569, 0.5451, 0.5569,  ..., 0.5333, 0.5294, 0.5255]],\n",
            "\n",
            "         [[1.0000, 1.0000, 0.9922,  ..., 0.9686, 0.9843, 0.9725],\n",
            "          [1.0000, 0.9922, 0.9961,  ..., 0.9059, 0.7373, 0.6431],\n",
            "          [0.8549, 0.9804, 0.9961,  ..., 0.7529, 0.6039, 0.5020],\n",
            "          ...,\n",
            "          [0.6235, 0.6039, 0.6039,  ..., 0.3529, 0.3608, 0.3059],\n",
            "          [0.7098, 0.6863, 0.6941,  ..., 0.4667, 0.4353, 0.4157],\n",
            "          [0.6745, 0.6471, 0.6510,  ..., 0.6039, 0.5725, 0.5412]]]])\n",
            "torch.Size([1, 3, 32, 32])\n"
          ]
        }
      ]
    },
    {
      "cell_type": "code",
      "source": [
        "# define the model\n",
        "class CNN(nn.Module):\n",
        "  def __init__(self, K):\n",
        "    super(CNN, self).__init__()\n",
        "\n",
        "    #define the conv layer\n",
        "    self.conv1= nn.Sequential(\n",
        "        nn.Conv2d(3, 32, kernel_size=3, padding=1),\n",
        "        nn.ReLU(),\n",
        "        nn.BatchNorm2d(32),\n",
        "        nn.Conv2d(32, 32, kernel_size=3, padding=1),\n",
        "        nn.ReLU(),\n",
        "        nn.BatchNorm2d(32),\n",
        "        nn.MaxPool2d(2),\n",
        "    )\n",
        "\n",
        "    self.conv2 = nn.Sequential(\n",
        "        nn.Conv2d(32, 64, kernel_size=3, padding=1),\n",
        "        nn.ReLU(),\n",
        "        nn.BatchNorm2d(64),\n",
        "        nn.Conv2d(64, 64, kernel_size=3, padding=1),\n",
        "        nn.ReLU(),\n",
        "        nn.BatchNorm2d(64),\n",
        "        nn.MaxPool2d(2),\n",
        "    )\n",
        "    self.conv3 = nn.Sequential(\n",
        "        nn.Conv2d(64, 128, kernel_size=3, padding=1),\n",
        "        nn.ReLU(),\n",
        "        nn.BatchNorm2d(128),\n",
        "        nn.Conv2d(128, 128, kernel_size=3, padding=1),\n",
        "        nn.ReLU(),\n",
        "        nn.BatchNorm2d(128),\n",
        "        nn.MaxPool2d(2),\n",
        "    )\n",
        "\n",
        "    # define the linear layers\n",
        "    self.fc1 = nn.Linear(128 * 4 *4, 1024)\n",
        "    self.fc2 = nn.Linear(1024, K) ## 1024, 10\n",
        "\n",
        "  def forward(self, x):\n",
        "    x = self.conv1(x)\n",
        "    x = self.conv2(x)\n",
        "    x = self.conv3(x)\n",
        "\n",
        "    # x = x.view(-1, 128 *3 *3) ## -1 -> first dimension, 128*3*3 is the second dimension\n",
        "    x = x.view(x.size(0), -1)\n",
        "    ## view is being used for reshaphing x\n",
        "    x = F.dropout(x, p=0.5)\n",
        "    x = F.relu(self.fc1(x))\n",
        "    x = F.dropout(x, p=0.2)\n",
        "    x = self.fc2(x)\n",
        "    return x"
      ],
      "metadata": {
        "id": "uVbt5qbbvyv-"
      },
      "execution_count": null,
      "outputs": []
    },
    {
      "cell_type": "code",
      "source": [
        "# instantiate the model\n",
        "model = CNN(K)"
      ],
      "metadata": {
        "id": "Uf5bu6-A15zY"
      },
      "execution_count": null,
      "outputs": []
    },
    {
      "cell_type": "code",
      "source": [
        "device = torch.device(\"cuda:0\" if torch.cuda.is_available() else \"cpu\")\n",
        "print(device)\n",
        "model.to(device)"
      ],
      "metadata": {
        "colab": {
          "base_uri": "https://localhost:8080/"
        },
        "id": "HJeCXwkQ22DL",
        "outputId": "67d64833-56ab-4a22-f745-b910a03dd24a"
      },
      "execution_count": null,
      "outputs": [
        {
          "output_type": "stream",
          "name": "stdout",
          "text": [
            "cuda:0\n"
          ]
        },
        {
          "output_type": "execute_result",
          "data": {
            "text/plain": [
              "CNN(\n",
              "  (conv1): Sequential(\n",
              "    (0): Conv2d(3, 32, kernel_size=(3, 3), stride=(1, 1), padding=(1, 1))\n",
              "    (1): ReLU()\n",
              "    (2): BatchNorm2d(32, eps=1e-05, momentum=0.1, affine=True, track_running_stats=True)\n",
              "    (3): Conv2d(32, 32, kernel_size=(3, 3), stride=(1, 1), padding=(1, 1))\n",
              "    (4): ReLU()\n",
              "    (5): BatchNorm2d(32, eps=1e-05, momentum=0.1, affine=True, track_running_stats=True)\n",
              "    (6): MaxPool2d(kernel_size=2, stride=2, padding=0, dilation=1, ceil_mode=False)\n",
              "  )\n",
              "  (conv2): Sequential(\n",
              "    (0): Conv2d(32, 64, kernel_size=(3, 3), stride=(1, 1), padding=(1, 1))\n",
              "    (1): ReLU()\n",
              "    (2): BatchNorm2d(64, eps=1e-05, momentum=0.1, affine=True, track_running_stats=True)\n",
              "    (3): Conv2d(64, 64, kernel_size=(3, 3), stride=(1, 1), padding=(1, 1))\n",
              "    (4): ReLU()\n",
              "    (5): BatchNorm2d(64, eps=1e-05, momentum=0.1, affine=True, track_running_stats=True)\n",
              "    (6): MaxPool2d(kernel_size=2, stride=2, padding=0, dilation=1, ceil_mode=False)\n",
              "  )\n",
              "  (conv3): Sequential(\n",
              "    (0): Conv2d(64, 128, kernel_size=(3, 3), stride=(1, 1), padding=(1, 1))\n",
              "    (1): ReLU()\n",
              "    (2): BatchNorm2d(128, eps=1e-05, momentum=0.1, affine=True, track_running_stats=True)\n",
              "    (3): Conv2d(128, 128, kernel_size=(3, 3), stride=(1, 1), padding=(1, 1))\n",
              "    (4): ReLU()\n",
              "    (5): BatchNorm2d(128, eps=1e-05, momentum=0.1, affine=True, track_running_stats=True)\n",
              "    (6): MaxPool2d(kernel_size=2, stride=2, padding=0, dilation=1, ceil_mode=False)\n",
              "  )\n",
              "  (fc1): Linear(in_features=2048, out_features=1024, bias=True)\n",
              "  (fc2): Linear(in_features=1024, out_features=10, bias=True)\n",
              ")"
            ]
          },
          "metadata": {},
          "execution_count": 35
        }
      ]
    },
    {
      "cell_type": "code",
      "source": [
        "## Loss and optimizer\n",
        "criterion = nn.CrossEntropyLoss()\n",
        "optimizer = torch.optim.Adam(model.parameters())"
      ],
      "metadata": {
        "id": "qLhu_eep24pJ"
      },
      "execution_count": null,
      "outputs": []
    },
    {
      "cell_type": "code",
      "source": [
        "## a function o encapsulate the training loop\n",
        "def batch_gd(model, criterion, optimizer, train_loader, test_loader, epochs):\n",
        "    train_losses = np.zeros(epochs)\n",
        "    test_losses = np.zeros(epochs)\n",
        "    \n",
        "    for i in range(epochs):\n",
        "        t0 = datetime.now()\n",
        "        train_loss = []\n",
        "        for inputs, targets in train_loader:\n",
        "            ## move data to gpu\n",
        "            inputs, targets = inputs.to(device), targets.to(device)\n",
        "            \n",
        "            \n",
        "            ##zero the parameter gradient\n",
        "            optimizer.zero_grad()\n",
        "            \n",
        "            ## forward pass\n",
        "            outputs = model(inputs)\n",
        "            loss = criterion(outputs, targets)\n",
        "            \n",
        "            ##backward and optimize\n",
        "            loss.backward()\n",
        "            optimizer.step()\n",
        "            \n",
        "            train_loss.append(loss.item())    \n",
        "        ## get the train loss and test loss\n",
        "        train_loss = np.mean(train_loss) \n",
        "        \n",
        "        test_loss = []\n",
        "        for inputs, targets in test_loader:\n",
        "            ## move data to gpu\n",
        "            inputs, targets = inputs.to(device), targets.to(device)        \n",
        "            ## forward pass\n",
        "            outputs = model(inputs)\n",
        "            loss = criterion(outputs, targets)\n",
        "         \n",
        "            test_loss.append(loss.item())    \n",
        "        test_loss = np.mean(test_loss)\n",
        "        \n",
        "        ## saving the losses\n",
        "        train_losses[i] = train_loss\n",
        "        test_losses[i] = test_loss\n",
        "        \n",
        "        dt = datetime.now() - t0\n",
        "        print(f'Epoch {i+1}/{epochs}, Train_loss: {train_loss:.4f}, \\  Test_loss: {test_loss:.4f}, Duration: {dt}')\n",
        "        \n",
        "    return train_losses, test_losses"
      ],
      "metadata": {
        "id": "ZVwA7ELa2-lA"
      },
      "execution_count": null,
      "outputs": []
    },
    {
      "cell_type": "code",
      "source": [
        "train_losses, test_losses = batch_gd(model, criterion, optimizer, train_loader, test_loader, epochs= 80)"
      ],
      "metadata": {
        "colab": {
          "base_uri": "https://localhost:8080/"
        },
        "id": "SjQfRqfE3FBZ",
        "outputId": "fa5a744f-8d6c-4994-c749-3649200caee4"
      },
      "execution_count": null,
      "outputs": [
        {
          "output_type": "stream",
          "name": "stdout",
          "text": [
            "Epoch 1/80, Train_loss: 1.2402, \\  Test_loss: 0.9204, Duration: 0:00:13.443491\n",
            "Epoch 2/80, Train_loss: 0.8070, \\  Test_loss: 0.7716, Duration: 0:00:13.337958\n",
            "Epoch 3/80, Train_loss: 0.6458, \\  Test_loss: 0.6813, Duration: 0:00:13.324496\n",
            "Epoch 4/80, Train_loss: 0.5503, \\  Test_loss: 0.6545, Duration: 0:00:13.358575\n",
            "Epoch 5/80, Train_loss: 0.4807, \\  Test_loss: 0.6377, Duration: 0:00:13.311210\n",
            "Epoch 6/80, Train_loss: 0.4215, \\  Test_loss: 0.6225, Duration: 0:00:13.360027\n",
            "Epoch 7/80, Train_loss: 0.3656, \\  Test_loss: 0.6244, Duration: 0:00:13.321309\n",
            "Epoch 8/80, Train_loss: 0.3276, \\  Test_loss: 0.6277, Duration: 0:00:13.343075\n",
            "Epoch 9/80, Train_loss: 0.2944, \\  Test_loss: 0.6295, Duration: 0:00:13.312138\n",
            "Epoch 10/80, Train_loss: 0.2547, \\  Test_loss: 0.6522, Duration: 0:00:13.338918\n",
            "Epoch 11/80, Train_loss: 0.2410, \\  Test_loss: 0.6369, Duration: 0:00:13.325855\n",
            "Epoch 12/80, Train_loss: 0.2192, \\  Test_loss: 0.7111, Duration: 0:00:13.312761\n",
            "Epoch 13/80, Train_loss: 0.2079, \\  Test_loss: 0.7016, Duration: 0:00:13.300751\n",
            "Epoch 14/80, Train_loss: 0.1904, \\  Test_loss: 0.7424, Duration: 0:00:13.281714\n",
            "Epoch 15/80, Train_loss: 0.1712, \\  Test_loss: 0.7418, Duration: 0:00:13.320068\n",
            "Epoch 16/80, Train_loss: 0.1601, \\  Test_loss: 0.7270, Duration: 0:00:13.296815\n",
            "Epoch 17/80, Train_loss: 0.1609, \\  Test_loss: 0.7928, Duration: 0:00:13.295249\n",
            "Epoch 18/80, Train_loss: 0.1448, \\  Test_loss: 0.7600, Duration: 0:00:13.311962\n",
            "Epoch 19/80, Train_loss: 0.1368, \\  Test_loss: 0.7930, Duration: 0:00:13.316521\n",
            "Epoch 20/80, Train_loss: 0.1392, \\  Test_loss: 0.8007, Duration: 0:00:13.271510\n",
            "Epoch 21/80, Train_loss: 0.1245, \\  Test_loss: 0.8075, Duration: 0:00:13.252234\n",
            "Epoch 22/80, Train_loss: 0.1244, \\  Test_loss: 0.8215, Duration: 0:00:13.331050\n",
            "Epoch 23/80, Train_loss: 0.1219, \\  Test_loss: 0.8496, Duration: 0:00:13.325951\n",
            "Epoch 24/80, Train_loss: 0.1143, \\  Test_loss: 0.8266, Duration: 0:00:13.365012\n",
            "Epoch 25/80, Train_loss: 0.1074, \\  Test_loss: 0.8694, Duration: 0:00:13.290459\n",
            "Epoch 26/80, Train_loss: 0.1047, \\  Test_loss: 0.8273, Duration: 0:00:13.283383\n",
            "Epoch 27/80, Train_loss: 0.0999, \\  Test_loss: 0.8786, Duration: 0:00:13.300424\n",
            "Epoch 28/80, Train_loss: 0.1039, \\  Test_loss: 0.8528, Duration: 0:00:13.294381\n",
            "Epoch 29/80, Train_loss: 0.0981, \\  Test_loss: 0.8806, Duration: 0:00:13.311626\n",
            "Epoch 30/80, Train_loss: 0.1006, \\  Test_loss: 0.8363, Duration: 0:00:13.313523\n",
            "Epoch 31/80, Train_loss: 0.0862, \\  Test_loss: 0.9117, Duration: 0:00:13.323755\n",
            "Epoch 32/80, Train_loss: 0.0923, \\  Test_loss: 0.8876, Duration: 0:00:13.271699\n",
            "Epoch 33/80, Train_loss: 0.0872, \\  Test_loss: 0.9006, Duration: 0:00:13.272428\n",
            "Epoch 34/80, Train_loss: 0.0837, \\  Test_loss: 0.9565, Duration: 0:00:13.285931\n",
            "Epoch 35/80, Train_loss: 0.0873, \\  Test_loss: 0.9173, Duration: 0:00:13.314186\n",
            "Epoch 36/80, Train_loss: 0.0844, \\  Test_loss: 0.8605, Duration: 0:00:13.329364\n",
            "Epoch 37/80, Train_loss: 0.0784, \\  Test_loss: 0.8675, Duration: 0:00:13.262614\n",
            "Epoch 38/80, Train_loss: 0.0744, \\  Test_loss: 0.9069, Duration: 0:00:13.318154\n",
            "Epoch 39/80, Train_loss: 0.0752, \\  Test_loss: 0.9361, Duration: 0:00:13.273286\n",
            "Epoch 40/80, Train_loss: 0.0735, \\  Test_loss: 0.9491, Duration: 0:00:13.315921\n",
            "Epoch 41/80, Train_loss: 0.0738, \\  Test_loss: 0.9202, Duration: 0:00:13.367675\n",
            "Epoch 42/80, Train_loss: 0.0733, \\  Test_loss: 0.9838, Duration: 0:00:13.340557\n",
            "Epoch 43/80, Train_loss: 0.0719, \\  Test_loss: 0.9490, Duration: 0:00:13.323224\n",
            "Epoch 44/80, Train_loss: 0.0647, \\  Test_loss: 0.9554, Duration: 0:00:13.329303\n",
            "Epoch 45/80, Train_loss: 0.0671, \\  Test_loss: 0.9728, Duration: 0:00:13.304107\n",
            "Epoch 46/80, Train_loss: 0.0686, \\  Test_loss: 0.8937, Duration: 0:00:13.307940\n",
            "Epoch 47/80, Train_loss: 0.0633, \\  Test_loss: 0.9444, Duration: 0:00:13.350113\n",
            "Epoch 48/80, Train_loss: 0.0652, \\  Test_loss: 0.9875, Duration: 0:00:13.362896\n",
            "Epoch 49/80, Train_loss: 0.0594, \\  Test_loss: 0.9556, Duration: 0:00:13.265759\n",
            "Epoch 50/80, Train_loss: 0.0592, \\  Test_loss: 1.0024, Duration: 0:00:13.321435\n",
            "Epoch 51/80, Train_loss: 0.0630, \\  Test_loss: 0.9764, Duration: 0:00:13.279809\n",
            "Epoch 52/80, Train_loss: 0.0632, \\  Test_loss: 0.9726, Duration: 0:00:13.323073\n",
            "Epoch 53/80, Train_loss: 0.0590, \\  Test_loss: 0.9447, Duration: 0:00:13.311824\n",
            "Epoch 54/80, Train_loss: 0.0563, \\  Test_loss: 0.9430, Duration: 0:00:13.354639\n",
            "Epoch 55/80, Train_loss: 0.0561, \\  Test_loss: 0.9940, Duration: 0:00:13.287638\n",
            "Epoch 56/80, Train_loss: 0.0530, \\  Test_loss: 0.9717, Duration: 0:00:13.314863\n",
            "Epoch 57/80, Train_loss: 0.0570, \\  Test_loss: 0.9753, Duration: 0:00:13.291961\n",
            "Epoch 58/80, Train_loss: 0.0532, \\  Test_loss: 0.9889, Duration: 0:00:13.301886\n",
            "Epoch 59/80, Train_loss: 0.0521, \\  Test_loss: 1.0108, Duration: 0:00:13.337871\n",
            "Epoch 60/80, Train_loss: 0.0528, \\  Test_loss: 0.9801, Duration: 0:00:13.360759\n",
            "Epoch 61/80, Train_loss: 0.0481, \\  Test_loss: 0.9340, Duration: 0:00:13.291868\n",
            "Epoch 62/80, Train_loss: 0.0493, \\  Test_loss: 1.0182, Duration: 0:00:13.295650\n",
            "Epoch 63/80, Train_loss: 0.0481, \\  Test_loss: 0.9718, Duration: 0:00:13.258467\n",
            "Epoch 64/80, Train_loss: 0.0492, \\  Test_loss: 0.9438, Duration: 0:00:13.301942\n",
            "Epoch 65/80, Train_loss: 0.0449, \\  Test_loss: 0.9475, Duration: 0:00:13.276087\n",
            "Epoch 66/80, Train_loss: 0.0501, \\  Test_loss: 0.9867, Duration: 0:00:13.328857\n",
            "Epoch 67/80, Train_loss: 0.0460, \\  Test_loss: 0.9380, Duration: 0:00:13.259979\n",
            "Epoch 68/80, Train_loss: 0.0433, \\  Test_loss: 1.0434, Duration: 0:00:13.289461\n",
            "Epoch 69/80, Train_loss: 0.0460, \\  Test_loss: 0.9330, Duration: 0:00:13.297928\n",
            "Epoch 70/80, Train_loss: 0.0450, \\  Test_loss: 0.9623, Duration: 0:00:13.301421\n",
            "Epoch 71/80, Train_loss: 0.0441, \\  Test_loss: 0.9645, Duration: 0:00:13.301639\n",
            "Epoch 72/80, Train_loss: 0.0412, \\  Test_loss: 1.0299, Duration: 0:00:13.326659\n",
            "Epoch 73/80, Train_loss: 0.0439, \\  Test_loss: 0.9470, Duration: 0:00:13.323738\n",
            "Epoch 74/80, Train_loss: 0.0439, \\  Test_loss: 0.9588, Duration: 0:00:13.286824\n",
            "Epoch 75/80, Train_loss: 0.0412, \\  Test_loss: 0.9660, Duration: 0:00:13.314467\n",
            "Epoch 76/80, Train_loss: 0.0421, \\  Test_loss: 0.9734, Duration: 0:00:13.295156\n",
            "Epoch 77/80, Train_loss: 0.0370, \\  Test_loss: 0.9375, Duration: 0:00:13.313093\n",
            "Epoch 78/80, Train_loss: 0.0375, \\  Test_loss: 0.9583, Duration: 0:00:13.331549\n",
            "Epoch 79/80, Train_loss: 0.0347, \\  Test_loss: 0.9929, Duration: 0:00:13.300363\n",
            "Epoch 80/80, Train_loss: 0.0327, \\  Test_loss: 1.0903, Duration: 0:00:13.245504\n"
          ]
        }
      ]
    },
    {
      "cell_type": "code",
      "source": [
        "# plot the train and test loss per iteration\n",
        "plt.plot(train_losses, label=\"Train_Loss\")\n",
        "plt.plot(test_losses, label=\"Test_Loss\")\n",
        "plt.legend()\n",
        "plt.show()"
      ],
      "metadata": {
        "colab": {
          "base_uri": "https://localhost:8080/",
          "height": 265
        },
        "id": "4M2-r6sM3I7Q",
        "outputId": "823a0e78-5727-4269-a988-1dd1e0120073"
      },
      "execution_count": null,
      "outputs": [
        {
          "output_type": "display_data",
          "data": {
            "text/plain": [
              "<Figure size 432x288 with 1 Axes>"
            ],
            "image/png": "[encoded data removed]"
          },
          "metadata": {
            "needs_background": "light"
          }
        }
      ]
    },
    {
      "cell_type": "code",
      "source": [
        "## accuracy\n",
        "n_correct = 0\n",
        "n_total = 0\n",
        "\n",
        "for inputs, targets in train_loader:\n",
        "  ## move data to gpu\n",
        "  inputs, targets = inputs.to(device), targets.to(device)\n",
        "\n",
        "  ## forward pass\n",
        "  outputs = model(inputs)\n",
        "\n",
        "  ## get the prediction\n",
        "  ## torch.max returns both max and argmax\n",
        "  _, predictions = torch.max(outputs, 1) \n",
        "\n",
        "  ## update the counts\n",
        "  n_correct += (predictions == targets).sum().item()\n",
        "  n_total += targets.shape[0]\n",
        "train_acc = n_correct / n_total\n",
        "\n",
        "n_correct = 0\n",
        "n_total = 0\n",
        "\n",
        "for inputs, targets in test_loader:\n",
        "  ## move data to gpu\n",
        "  inputs, targets = inputs.to(device), targets.to(device)\n",
        "\n",
        "  ## forward pass\n",
        "  outputs = model(inputs)\n",
        "\n",
        "  ## get the prediction\n",
        "  ## torch.max returns both max and argmax\n",
        "  _, predictions = torch.max(outputs, 1) \n",
        "\n",
        "  ## update the counts\n",
        "  n_correct += (predictions == targets).sum().item()\n",
        "  n_total += targets.shape[0]\n",
        "\n",
        "test_acc = n_correct / n_total\n",
        "\n",
        "\n",
        "print(f\"Train acc: {train_acc:.4f}, Test_acc: {test_acc:.4f}\")"
      ],
      "metadata": {
        "colab": {
          "base_uri": "https://localhost:8080/"
        },
        "id": "rZoXJC4K8oVu",
        "outputId": "1c7b7c46-9090-4696-d279-2e5d049b99ea"
      },
      "execution_count": null,
      "outputs": [
        {
          "output_type": "stream",
          "name": "stdout",
          "text": [
            "Train acc: 0.9887, Test_acc: 0.8409\n"
          ]
        }
      ]
    },
    {
      "cell_type": "code",
      "source": [
        "#plot the confusion matrix\n",
        "from sklearn.metrics import confusion_matrix\n",
        "import numpy as np\n",
        "import itertools\n",
        "\n",
        "def plot_confusion_matrix(cm, classes, normalize=False, title=\"Confusion_matrix\", cmap=plt.cm.Blues):\n",
        "    \"\"\"\n",
        "    This function prints and plots the confusion matrix\n",
        "    Normalization can be applied by normalize=True\n",
        "    \"\"\"\n",
        "    if normalize:\n",
        "        cm  = cm.astype(\"float\")/cm.sum(axis=1)[:, np.newaxis]\n",
        "        print(\"Normalized Confusion Matrix\")\n",
        "    else:\n",
        "        print(\"Confusion matrix without normalization\")\n",
        "        \n",
        "    print(cm)\n",
        "    \n",
        "    plt.imshow(cm, interpolation=\"nearest\", cmap=cmap)\n",
        "    plt.title(title)\n",
        "    plt.colorbar()\n",
        "    tick_marks = np.arange(len(classes))\n",
        "    plt.xticks(tick_marks, classes, rotation=45)\n",
        "    plt.yticks(tick_marks, classes)\n",
        "    \n",
        "    \n",
        "    fmt = \".2f\" if normalize else 'd'\n",
        "    thresh = cm.max() / 2.\n",
        "    for i, j in itertools.product(range(cm.shape[0]), range(cm.shape[1])):\n",
        "        plt.text(j, i, format(cm[i, j], fmt),\n",
        "                horizontalalignment = \"center\",\n",
        "                color=\"white\" if cm[i,j]>thresh else \"black\" )\n",
        "    plt.tight_layout()\n",
        "    plt.ylabel(\"True label\")\n",
        "    plt.xlabel(\"Predicted Label\")\n",
        "    plt.show()"
      ],
      "metadata": {
        "id": "pZqJn1fWH-Ok"
      },
      "execution_count": null,
      "outputs": []
    },
    {
      "cell_type": "code",
      "source": [
        "# get all predictions in an array and plot the confusion matrix\n",
        "import numpy\n",
        "x_test = test_dataset.data\n",
        "y_test = np.array(test_dataset.targets)\n",
        "p_test = np.array([])\n",
        "\n",
        "for inputs, targets in test_loader:\n",
        "    inputs = inputs.to(device)\n",
        "    targets = targets.to(device)\n",
        "    \n",
        "    \n",
        "    \n",
        "    #forward pass\n",
        "    outputs = model(inputs)\n",
        "    \n",
        "    #get prediction\n",
        "    _, predictions = torch.max(outputs, 1)\n",
        "    \n",
        "    # update p test\n",
        "    p_test = np.concatenate((p_test, predictions.cpu().numpy()))\n",
        "\n",
        "cm = confusion_matrix(y_test, p_test)\n",
        "plot_confusion_matrix(cm, list(range(10)))"
      ],
      "metadata": {
        "colab": {
          "base_uri": "https://localhost:8080/",
          "height": 502
        },
        "id": "0KldVqkMIP6K",
        "outputId": "c1b8eff6-558a-447f-dfb8-1151047207f2"
      },
      "execution_count": null,
      "outputs": [
        {
          "output_type": "stream",
          "name": "stdout",
          "text": [
            "Confusion matrix without normalization\n",
            "[[842   9  24  15  16   3   9  10  48  24]\n",
            " [ 10 910   3   7   1   1   3   2  15  48]\n",
            " [ 41   2 772  37  40  30  52  15   6   5]\n",
            " [ 15   2  47 646  60 110  67  30  12  11]\n",
            " [ 12   1  40  26 825  15  33  40   7   1]\n",
            " [  7   2  37  94  39 759  21  39   1   1]\n",
            " [  5   2  26  20  21   3 912   6   5   0]\n",
            " [  6   0  13  20  30  32   4 879   3  13]\n",
            " [ 23  14   8   8   3   2   4   2 923  13]\n",
            " [ 14  50   1   6   0   2   1   5  15 906]]\n"
          ]
        },
        {
          "output_type": "display_data",
          "data": {
            "text/plain": [
              "<Figure size 432x288 with 2 Axes>"
            ],
            "image/png": "[encoded data removed]"
          },
          "metadata": {
            "needs_background": "light"
          }
        }
      ]
    },
    {
      "cell_type": "code",
      "source": [
        "# label mapping\n",
        "labels = '''\n",
        "airplane\n",
        "automobile\n",
        "bird\n",
        "cat\n",
        "deer\n",
        "dog\n",
        "frog\n",
        "horse\n",
        "ship\n",
        "truck\n",
        "\n",
        "'''.split()"
      ],
      "metadata": {
        "id": "T3NHuOjUIc9j"
      },
      "execution_count": null,
      "outputs": []
    },
    {
      "cell_type": "code",
      "source": [
        "p_test = p_test.astype(np.uint8)\n",
        "mis_class_idx = np.where(p_test != y_test)[0]\n",
        "i = np.random.choice(mis_class_idx)\n",
        "plt.imshow(x_test[i].reshape(32, 32, 3))\n",
        "plt.title(\"True Label: %s Predicted: %s\" % (labels[y_test[i]], labels[p_test[i]]));"
      ],
      "metadata": {
        "colab": {
          "base_uri": "https://localhost:8080/",
          "height": 281
        },
        "id": "qcULiANCJxHr",
        "outputId": "8fe148ad-15c3-44b9-e651-d2db252c16e3"
      },
      "execution_count": null,
      "outputs": [
        {
          "output_type": "display_data",
          "data": {
            "text/plain": [
              "<Figure size 432x288 with 1 Axes>"
            ],
            "image/png": "[encoded data removed]"
          },
          "metadata": {
            "needs_background": "light"
          }
        }
      ]
    },
    {
      "cell_type": "code",
      "source": [
        "# show some more misclassified samples\n",
        "p_test = p_test.astype(np.uint8)\n",
        "mis_class_idx = np.where(p_test != y_test)[0]\n",
        "sample_idx = np.random.choice(mis_class_idx, 10, replace=False)\n",
        "plt.figure(figsize=(32, 32))\n",
        "for j, i in enumerate(sample_idx):\n",
        "  plt.subplot(10, 1, j+1)\n",
        "  plt.axis('off')\n",
        "  plt.imshow(x_test[i].reshape(32, 32, 3))\n",
        "  plt.title(\"True Label: %s Predicted: %s\" % (labels[y_test[i]], labels[p_test[i]]));"
      ],
      "metadata": {
        "colab": {
          "base_uri": "https://localhost:8080/",
          "height": 1000
        },
        "id": "blZcC820KPUD",
        "outputId": "85408096-28d0-4a77-e43d-6712548a19de"
      },
      "execution_count": null,
      "outputs": [
        {
          "output_type": "display_data",
          "data": {
            "text/plain": [
              "<Figure size 2304x2304 with 10 Axes>"
            ],
            "image/png": "[encoded data removed]"
          },
          "metadata": {
            "needs_background": "light"
          }
        }
      ]
    },
    {
      "cell_type": "code",
      "source": [
        "from torchsummary import summary\n",
        "summary(model, (3, 32, 32))"
      ],
      "metadata": {
        "colab": {
          "base_uri": "https://localhost:8080/"
        },
        "id": "AhJszEzMLvgS",
        "outputId": "e8998c58-b183-44e4-c6ea-eba024590524"
      },
      "execution_count": null,
      "outputs": [
        {
          "output_type": "stream",
          "name": "stdout",
          "text": [
            "----------------------------------------------------------------\n",
            "        Layer (type)               Output Shape         Param #\n",
            "================================================================\n",
            "            Conv2d-1           [-1, 32, 32, 32]             896\n",
            "              ReLU-2           [-1, 32, 32, 32]               0\n",
            "       BatchNorm2d-3           [-1, 32, 32, 32]              64\n",
            "            Conv2d-4           [-1, 32, 32, 32]           9,248\n",
            "              ReLU-5           [-1, 32, 32, 32]               0\n",
            "       BatchNorm2d-6           [-1, 32, 32, 32]              64\n",
            "         MaxPool2d-7           [-1, 32, 16, 16]               0\n",
            "            Conv2d-8           [-1, 64, 16, 16]          18,496\n",
            "              ReLU-9           [-1, 64, 16, 16]               0\n",
            "      BatchNorm2d-10           [-1, 64, 16, 16]             128\n",
            "           Conv2d-11           [-1, 64, 16, 16]          36,928\n",
            "             ReLU-12           [-1, 64, 16, 16]               0\n",
            "      BatchNorm2d-13           [-1, 64, 16, 16]             128\n",
            "        MaxPool2d-14             [-1, 64, 8, 8]               0\n",
            "           Conv2d-15            [-1, 128, 8, 8]          73,856\n",
            "             ReLU-16            [-1, 128, 8, 8]               0\n",
            "      BatchNorm2d-17            [-1, 128, 8, 8]             256\n",
            "           Conv2d-18            [-1, 128, 8, 8]         147,584\n",
            "             ReLU-19            [-1, 128, 8, 8]               0\n",
            "      BatchNorm2d-20            [-1, 128, 8, 8]             256\n",
            "        MaxPool2d-21            [-1, 128, 4, 4]               0\n",
            "           Linear-22                 [-1, 1024]       2,098,176\n",
            "           Linear-23                   [-1, 10]          10,250\n",
            "================================================================\n",
            "Total params: 2,396,330\n",
            "Trainable params: 2,396,330\n",
            "Non-trainable params: 0\n",
            "----------------------------------------------------------------\n",
            "Input size (MB): 0.01\n",
            "Forward/backward pass size (MB): 2.74\n",
            "Params size (MB): 9.14\n",
            "Estimated Total Size (MB): 11.90\n",
            "----------------------------------------------------------------\n"
          ]
        }
      ]
    },
    {
      "cell_type": "code",
      "source": [
        ""
      ],
      "metadata": {
        "id": "kaaF-FdPMjDw"
      },
      "execution_count": null,
      "outputs": []
    }
  ]
}